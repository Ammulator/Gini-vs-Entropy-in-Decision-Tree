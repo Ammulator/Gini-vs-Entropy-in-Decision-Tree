{
  "nbformat": 4,
  "nbformat_minor": 0,
  "metadata": {
    "colab": {
      "name": "Gini vs Entropy in Decision Tree.ipynb",
      "provenance": [],
      "authorship_tag": "ABX9TyORZN71EGvZSQjoFDsimjhV",
      "include_colab_link": true
    },
    "kernelspec": {
      "name": "python3",
      "display_name": "Python 3"
    }
  },
  "cells": [
    {
      "cell_type": "markdown",
      "metadata": {
        "id": "view-in-github",
        "colab_type": "text"
      },
      "source": [
        "<a href=\"https://colab.research.google.com/github/Ammulator/Gini-vs-Entropy-in-Decision-Tree/blob/main/Gini_vs_Entropy_in_Decision_Tree.ipynb\" target=\"_parent\"><img src=\"https://colab.research.google.com/assets/colab-badge.svg\" alt=\"Open In Colab\"/></a>"
      ]
    },
    {
      "cell_type": "markdown",
      "metadata": {
        "id": "G_qHh6Telzam"
      },
      "source": [
        "**1. Importing Libraries**"
      ]
    },
    {
      "cell_type": "code",
      "metadata": {
        "id": "BsyJAnjYld0q"
      },
      "source": [
        "import numpy as np\r\n",
        "import pandas as pd\r\n",
        "from sklearn.tree import DecisionTreeClassifier\r\n",
        "from sklearn.model_selection import KFold\r\n",
        "from sklearn.metrics import accuracy_score,precision_score,recall_score"
      ],
      "execution_count": 1,
      "outputs": []
    },
    {
      "cell_type": "markdown",
      "metadata": {
        "id": "UwlnLiuYsVOg"
      },
      "source": [
        "**2. Importing Dataset and selecting features**"
      ]
    },
    {
      "cell_type": "code",
      "metadata": {
        "id": "8WaUntNfsT82"
      },
      "source": [
        "df=pd.read_csv(\"titanic.csv\")\r\n",
        "df['Sex']=df['Sex']=='male'\r\n",
        "X=df[['Pclass','Sex','Age','Siblings/Spouses','Parents/Children','Fare']].values\r\n",
        "y=df['Survived'].values"
      ],
      "execution_count": 22,
      "outputs": []
    },
    {
      "cell_type": "markdown",
      "metadata": {
        "id": "S6I5YmNHtTVI"
      },
      "source": [
        "**3. KFold Split**"
      ]
    },
    {
      "cell_type": "code",
      "metadata": {
        "id": "FjMT18X2tSQV"
      },
      "source": [
        "kf=KFold(n_splits=5,shuffle=True,random_state=42)"
      ],
      "execution_count": 23,
      "outputs": []
    },
    {
      "cell_type": "markdown",
      "metadata": {
        "id": "EeQfwqyrtphw"
      },
      "source": [
        "**4. Gini vs Entropy using for KFold**"
      ]
    },
    {
      "cell_type": "code",
      "metadata": {
        "colab": {
          "base_uri": "https://localhost:8080/"
        },
        "id": "HyUoBYgxtoda",
        "outputId": "e675c012-18aa-4ede-f218-adb2b81a1ca2"
      },
      "source": [
        "for criterian in ['gini','entropy']:\r\n",
        "  print(\"Decision Tree for: {}\".format(criterian))\r\n",
        "  accuracy=[]\r\n",
        "  precision=[]\r\n",
        "  recall=[]\r\n",
        "  for train_index,test_index in kf.split(X):\r\n",
        "    print(\"Train Test: \",train_index[1],test_index[1],train_index.shape,test_index.shape)\r\n",
        "    X_train,X_test=X[train_index],X[test_index]\r\n",
        "    y_train,y_test=y[train_index],y[test_index]\r\n",
        "    model=DecisionTreeClassifier()\r\n",
        "    model.fit(X_train,y_train)\r\n",
        "    y_pred=model.predict(X_test)\r\n",
        "    accuracy.append(accuracy_score(y_test,y_pred))\r\n",
        "    precision.append(precision_score(y_test,y_pred,average=None))\r\n",
        "    recall.append(recall_score(y_test,y_pred,average=None))\r\n",
        "  print(\"Accuracy: \",np.mean(accuracy))\r\n",
        "  print(\"Precision: \",np.mean(precision))\r\n",
        "  print(\"Recall: \",np.mean(recall))"
      ],
      "execution_count": 26,
      "outputs": [
        {
          "output_type": "stream",
          "text": [
            "Decision Tree for: gini\n",
            "Train Test:  1 10 (709,) (178,)\n",
            "Train Test:  1 6 (709,) (178,)\n",
            "Train Test:  2 3 (710,) (177,)\n",
            "Train Test:  1 16 (710,) (177,)\n",
            "Train Test:  2 4 (710,) (177,)\n",
            "Accuracy:  0.7824858757062148\n",
            "Precision:  0.7716845038044445\n",
            "Recall:  0.7742945975574294\n",
            "Decision Tree for: entropy\n",
            "Train Test:  1 10 (709,) (178,)\n",
            "Train Test:  1 6 (709,) (178,)\n",
            "Train Test:  2 3 (710,) (177,)\n",
            "Train Test:  1 16 (710,) (177,)\n",
            "Train Test:  2 4 (710,) (177,)\n",
            "Accuracy:  0.777985145686536\n",
            "Precision:  0.7660799634155799\n",
            "Recall:  0.7690215172596216\n"
          ],
          "name": "stdout"
        }
      ]
    }
  ]
}